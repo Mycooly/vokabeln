{
 "cells": [
  {
   "cell_type": "code",
   "execution_count": 17,
   "id": "3237ee3e",
   "metadata": {},
   "outputs": [],
   "source": [
    "from numpy import random\n",
    "import numpy as np"
   ]
  },
  {
   "cell_type": "code",
   "execution_count": 8,
   "id": "fa13ee6c",
   "metadata": {},
   "outputs": [],
   "source": [
    "l=['a','b','c']"
   ]
  },
  {
   "cell_type": "code",
   "execution_count": 18,
   "id": "42ad0b93",
   "metadata": {},
   "outputs": [],
   "source": [
    "weights=[0.1,0.5,1]\n",
    "weights=weights/np.sum(weights)"
   ]
  },
  {
   "cell_type": "code",
   "execution_count": 44,
   "id": "5d7b6430",
   "metadata": {},
   "outputs": [
    {
     "data": {
      "text/plain": [
       "array(['c', 'b'], dtype='<U1')"
      ]
     },
     "execution_count": 44,
     "metadata": {},
     "output_type": "execute_result"
    }
   ],
   "source": [
    "random.choice(l,p=weights,replace=False, size=2)"
   ]
  },
  {
   "cell_type": "code",
   "execution_count": 46,
   "id": "df7272fe",
   "metadata": {},
   "outputs": [
    {
     "data": {
      "text/plain": [
       "0.5403023058681398"
      ]
     },
     "execution_count": 46,
     "metadata": {},
     "output_type": "execute_result"
    }
   ],
   "source": [
    "from math import cos\n",
    "cos(1)"
   ]
  },
  {
   "cell_type": "code",
   "execution_count": 48,
   "id": "bf81a0ea",
   "metadata": {},
   "outputs": [
    {
     "data": {
      "text/plain": [
       "12.34"
      ]
     },
     "execution_count": 48,
     "metadata": {},
     "output_type": "execute_result"
    }
   ],
   "source": [
    "round(0.1234*100,2)"
   ]
  },
  {
   "cell_type": "code",
   "execution_count": 49,
   "id": "0bd65817",
   "metadata": {},
   "outputs": [],
   "source": [
    "statistik=[[0.,1,2],[.33,1,3]]"
   ]
  },
  {
   "cell_type": "code",
   "execution_count": 58,
   "id": "6b2fce4d",
   "metadata": {},
   "outputs": [],
   "source": [
    "a,_,c=np.sum(statistik,axis=0)"
   ]
  },
  {
   "cell_type": "code",
   "execution_count": 59,
   "id": "14dd69c3",
   "metadata": {},
   "outputs": [
    {
     "data": {
      "text/plain": [
       "0.33"
      ]
     },
     "execution_count": 59,
     "metadata": {},
     "output_type": "execute_result"
    }
   ],
   "source": [
    "a"
   ]
  },
  {
   "cell_type": "code",
   "execution_count": null,
   "id": "52142115",
   "metadata": {},
   "outputs": [],
   "source": []
  }
 ],
 "metadata": {
  "kernelspec": {
   "display_name": "Python 3",
   "language": "python",
   "name": "python3"
  },
  "language_info": {
   "codemirror_mode": {
    "name": "ipython",
    "version": 3
   },
   "file_extension": ".py",
   "mimetype": "text/x-python",
   "name": "python",
   "nbconvert_exporter": "python",
   "pygments_lexer": "ipython3",
   "version": "3.7.9"
  }
 },
 "nbformat": 4,
 "nbformat_minor": 5
}
