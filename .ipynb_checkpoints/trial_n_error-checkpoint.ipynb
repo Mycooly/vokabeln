{
 "cells": [
  {
   "cell_type": "code",
   "execution_count": 17,
   "id": "7ead9e6a",
   "metadata": {},
   "outputs": [],
   "source": [
    "from numpy import random\n",
    "import numpy as np"
   ]
  },
  {
   "cell_type": "code",
   "execution_count": 8,
   "id": "1bcbb0f7",
   "metadata": {},
   "outputs": [],
   "source": [
    "l=['a','b','c']"
   ]
  },
  {
   "cell_type": "code",
   "execution_count": 18,
   "id": "ac90d14c",
   "metadata": {},
   "outputs": [],
   "source": [
    "weights=[0.1,0.5,1]\n",
    "weights=weights/np.sum(weights)"
   ]
  },
  {
   "cell_type": "code",
   "execution_count": 44,
   "id": "960d056c",
   "metadata": {},
   "outputs": [
    {
     "data": {
      "text/plain": [
       "array(['c', 'b'], dtype='<U1')"
      ]
     },
     "execution_count": 44,
     "metadata": {},
     "output_type": "execute_result"
    }
   ],
   "source": [
    "random.choice(l,p=weights,replace=False, size=2)"
   ]
  },
  {
   "cell_type": "code",
   "execution_count": 46,
   "id": "bb0c4987",
   "metadata": {},
   "outputs": [
    {
     "data": {
      "text/plain": [
       "0.5403023058681398"
      ]
     },
     "execution_count": 46,
     "metadata": {},
     "output_type": "execute_result"
    }
   ],
   "source": [
    "from math import cos\n",
    "cos(1)"
   ]
  },
  {
   "cell_type": "code",
   "execution_count": 48,
   "id": "5f839374",
   "metadata": {},
   "outputs": [
    {
     "data": {
      "text/plain": [
       "12.34"
      ]
     },
     "execution_count": 48,
     "metadata": {},
     "output_type": "execute_result"
    }
   ],
   "source": [
    "round(0.1234*100,2)"
   ]
  },
  {
   "cell_type": "code",
   "execution_count": 49,
   "id": "684d81eb",
   "metadata": {},
   "outputs": [],
   "source": [
    "statistik=[[0.,1,2],[.33,1,3]]"
   ]
  },
  {
   "cell_type": "code",
   "execution_count": 58,
   "id": "4c0ee61c",
   "metadata": {},
   "outputs": [],
   "source": [
    "a,_,c=np.sum(statistik,axis=0)"
   ]
  },
  {
   "cell_type": "code",
   "execution_count": 59,
   "id": "047e4623",
   "metadata": {},
   "outputs": [
    {
     "data": {
      "text/plain": [
       "0.33"
      ]
     },
     "execution_count": 59,
     "metadata": {},
     "output_type": "execute_result"
    }
   ],
   "source": [
    "a"
   ]
  },
  {
   "cell_type": "code",
   "execution_count": 60,
   "id": "5bc926e4",
   "metadata": {},
   "outputs": [],
   "source": [
    "l=[1,2,3]"
   ]
  },
  {
   "cell_type": "code",
   "execution_count": 67,
   "id": "f8db978c",
   "metadata": {},
   "outputs": [
    {
     "data": {
      "text/plain": [
       "[0, 1, 2, 3, 0, 1, 2, 3, 0, 1, 2, 3]"
      ]
     },
     "execution_count": 67,
     "metadata": {},
     "output_type": "execute_result"
    }
   ],
   "source": [
    "3*list(range(4))"
   ]
  },
  {
   "cell_type": "code",
   "execution_count": 75,
   "id": "a7438b19",
   "metadata": {},
   "outputs": [],
   "source": [
    "np.random.shuffle(l)"
   ]
  },
  {
   "cell_type": "code",
   "execution_count": 76,
   "id": "4ffd8f6f",
   "metadata": {},
   "outputs": [
    {
     "data": {
      "text/plain": [
       "[2, 3, 1]"
      ]
     },
     "execution_count": 76,
     "metadata": {},
     "output_type": "execute_result"
    }
   ],
   "source": [
    "l"
   ]
  },
  {
   "cell_type": "code",
   "execution_count": 91,
   "id": "9b3ff712",
   "metadata": {},
   "outputs": [
    {
     "data": {
      "text/plain": [
       "'2 3 1'"
      ]
     },
     "execution_count": 91,
     "metadata": {},
     "output_type": "execute_result"
    }
   ],
   "source": [
    "' '.join(map(str,l))"
   ]
  }
 ],
 "metadata": {
  "kernelspec": {
   "display_name": "Python 3",
   "language": "python",
   "name": "python3"
  },
  "language_info": {
   "codemirror_mode": {
    "name": "ipython",
    "version": 3
   },
   "file_extension": ".py",
   "mimetype": "text/x-python",
   "name": "python",
   "nbconvert_exporter": "python",
   "pygments_lexer": "ipython3",
   "version": "3.7.9"
  }
 },
 "nbformat": 4,
 "nbformat_minor": 5
}
