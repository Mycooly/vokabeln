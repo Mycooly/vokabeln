{
 "cells": [
  {
   "cell_type": "code",
   "execution_count": 17,
   "id": "4a9d0351",
   "metadata": {},
   "outputs": [],
   "source": [
    "from numpy import random\n",
    "import numpy as np"
   ]
  },
  {
   "cell_type": "code",
   "execution_count": 8,
   "id": "28f0cbe6",
   "metadata": {},
   "outputs": [],
   "source": [
    "l=['a','b','c']"
   ]
  },
  {
   "cell_type": "code",
   "execution_count": 18,
   "id": "024d8b0a",
   "metadata": {},
   "outputs": [],
   "source": [
    "weights=[0.1,0.5,1]\n",
    "weights=weights/np.sum(weights)"
   ]
  },
  {
   "cell_type": "code",
   "execution_count": 44,
   "id": "72eeb2b3",
   "metadata": {},
   "outputs": [
    {
     "data": {
      "text/plain": [
       "array(['c', 'b'], dtype='<U1')"
      ]
     },
     "execution_count": 44,
     "metadata": {},
     "output_type": "execute_result"
    }
   ],
   "source": [
    "random.choice(l,p=weights,replace=False, size=2)"
   ]
  },
  {
   "cell_type": "code",
   "execution_count": 46,
   "id": "48ce6674",
   "metadata": {},
   "outputs": [
    {
     "data": {
      "text/plain": [
       "0.5403023058681398"
      ]
     },
     "execution_count": 46,
     "metadata": {},
     "output_type": "execute_result"
    }
   ],
   "source": [
    "from math import cos\n",
    "cos(1)"
   ]
  },
  {
   "cell_type": "code",
   "execution_count": 48,
   "id": "4a1d85f0",
   "metadata": {},
   "outputs": [
    {
     "data": {
      "text/plain": [
       "12.34"
      ]
     },
     "execution_count": 48,
     "metadata": {},
     "output_type": "execute_result"
    }
   ],
   "source": [
    "round(0.1234*100,2)"
   ]
  },
  {
   "cell_type": "code",
   "execution_count": 49,
   "id": "ab993988",
   "metadata": {},
   "outputs": [],
   "source": [
    "statistik=[[0.,1,2],[.33,1,3]]"
   ]
  },
  {
   "cell_type": "code",
   "execution_count": 58,
   "id": "64c5f022",
   "metadata": {},
   "outputs": [],
   "source": [
    "a,_,c=np.sum(statistik,axis=0)"
   ]
  },
  {
   "cell_type": "code",
   "execution_count": 59,
   "id": "0b8041f0",
   "metadata": {},
   "outputs": [
    {
     "data": {
      "text/plain": [
       "0.33"
      ]
     },
     "execution_count": 59,
     "metadata": {},
     "output_type": "execute_result"
    }
   ],
   "source": [
    "a"
   ]
  },
  {
   "cell_type": "code",
   "execution_count": 60,
   "id": "c87ace65",
   "metadata": {},
   "outputs": [],
   "source": [
    "l=[1,2,3]"
   ]
  },
  {
   "cell_type": "code",
   "execution_count": 110,
   "id": "4d61f23b",
   "metadata": {},
   "outputs": [],
   "source": [
    "l=3*list(range(8,11))"
   ]
  },
  {
   "cell_type": "code",
   "execution_count": 111,
   "id": "488bf03a",
   "metadata": {},
   "outputs": [],
   "source": [
    "np.random.shuffle(l)"
   ]
  },
  {
   "cell_type": "code",
   "execution_count": 112,
   "id": "208c5ce8",
   "metadata": {},
   "outputs": [
    {
     "data": {
      "text/plain": [
       "[9, 8, 8, 9, 10, 8, 9, 10, 10]"
      ]
     },
     "execution_count": 112,
     "metadata": {},
     "output_type": "execute_result"
    }
   ],
   "source": [
    "l"
   ]
  },
  {
   "cell_type": "code",
   "execution_count": 113,
   "id": "f871728b",
   "metadata": {
    "scrolled": true
   },
   "outputs": [],
   "source": [
    "l=' '.join(map(str,l))"
   ]
  },
  {
   "cell_type": "code",
   "execution_count": 114,
   "id": "6638969f",
   "metadata": {},
   "outputs": [
    {
     "data": {
      "text/plain": [
       "'9 8 8 9 10 8 9 10 10'"
      ]
     },
     "execution_count": 114,
     "metadata": {},
     "output_type": "execute_result"
    }
   ],
   "source": [
    "l"
   ]
  },
  {
   "cell_type": "code",
   "execution_count": 115,
   "id": "4db59fc9",
   "metadata": {},
   "outputs": [],
   "source": [
    "from re import findall"
   ]
  },
  {
   "cell_type": "code",
   "execution_count": 116,
   "id": "127db7b2",
   "metadata": {},
   "outputs": [
    {
     "data": {
      "text/plain": [
       "['9', '8', '8', '9', '10', '8', '9', '10', '10']"
      ]
     },
     "execution_count": 116,
     "metadata": {},
     "output_type": "execute_result"
    }
   ],
   "source": [
    "findall(r'\\d+\\b',l)"
   ]
  },
  {
   "cell_type": "code",
   "execution_count": null,
   "id": "b3d00793",
   "metadata": {},
   "outputs": [],
   "source": []
  }
 ],
 "metadata": {
  "kernelspec": {
   "display_name": "Python 3",
   "language": "python",
   "name": "python3"
  },
  "language_info": {
   "codemirror_mode": {
    "name": "ipython",
    "version": 3
   },
   "file_extension": ".py",
   "mimetype": "text/x-python",
   "name": "python",
   "nbconvert_exporter": "python",
   "pygments_lexer": "ipython3",
   "version": "3.7.9"
  }
 },
 "nbformat": 4,
 "nbformat_minor": 5
}
